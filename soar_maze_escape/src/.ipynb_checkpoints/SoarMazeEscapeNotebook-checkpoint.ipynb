{
 "cells": [
  {
   "cell_type": "code",
   "execution_count": 1,
   "id": "a974d065-b281-4f9d-a2dc-40697a47fd4c",
   "metadata": {},
   "outputs": [],
   "source": [
    "# Import neccesary modules\n",
    "# Set matplotlib to inline mode for the Jupyter notebook visualisations\n",
    "\n",
    "%matplotlib inline\n",
    "\n",
    "import rospy\n",
    "from sensor_msgs.msg import LaserScan\n",
    "from nav_msgs.srv import GetMap\n",
    "from nav_msgs.msg import OccupancyGrid\n",
    "\n",
    "import numpy as np\n",
    "import matplotlib.pyplot as plt\n",
    "\n",
    "import numpy as np\n",
    "\n",
    "import copy\n",
    "import time\n",
    "import math\n",
    "\n",
    "# Helper method for retrieving the map\n",
    "def getMap() -> OccupancyGrid:\n",
    "    \"\"\" Loads map from map service \"\"\"\n",
    "    # Create service proxy\n",
    "    get_map = rospy.ServiceProxy('static_map', GetMap)\n",
    "    # Call service\n",
    "    recMap = get_map()\n",
    "    recMap = recMap.map\n",
    "    # Return\n",
    "    return recMap\n",
    "\n",
    "# Initiate ROS node\n",
    "rospy.init_node('mazeEscape')\n",
    "recMap = getMap()\n",
    "\n",
    "# convert the data to a 2d array (coordinates)\n",
    "mapData = np.asarray(recMap.data)\n",
    "recMap = np.split(mapData, recMap.info.width)"
   ]
  },
  {
   "cell_type": "code",
   "execution_count": 2,
   "id": "28d68c4b-c167-4b25-92c6-bd273ceeb580",
   "metadata": {},
   "outputs": [
    {
     "name": "stdout",
     "output_type": "stream",
     "text": [
      "100\n"
     ]
    }
   ],
   "source": []
  }
 ],
 "metadata": {
  "kernelspec": {
   "display_name": "Python 3 (ipykernel)",
   "language": "python",
   "name": "python3"
  },
  "language_info": {
   "codemirror_mode": {
    "name": "ipython",
    "version": 3
   },
   "file_extension": ".py",
   "mimetype": "text/x-python",
   "name": "python",
   "nbconvert_exporter": "python",
   "pygments_lexer": "ipython3",
   "version": "3.8.10"
  }
 },
 "nbformat": 4,
 "nbformat_minor": 5
}
